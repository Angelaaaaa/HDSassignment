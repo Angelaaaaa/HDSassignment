{
 "cells": [
  {
   "cell_type": "markdown",
   "metadata": {},
   "source": [
    "# HDS assignment"
   ]
  },
  {
   "cell_type": "markdown",
   "metadata": {},
   "source": [
    "## !!!!!Important!!!!!! \n",
    "\n",
    "## All files of the dataset should be stored at the same directory as this jupyter notebook for executing the code!"
   ]
  },
  {
   "cell_type": "markdown",
   "metadata": {},
   "source": [
    "#### Introduction"
   ]
  },
  {
   "cell_type": "markdown",
   "metadata": {},
   "source": [
    "* This report will be split into 2 parts. Function part which is about all the functions used and explain how they work, and the execution part where I executed the functions to get the answer of the questions and describe findings.\n",
    "\n",
    "For this assignment, while solving each questions, I will be reading csv files individually to ensure the independency of the data as well as to avoid confusion while working with same pandas frame.\n",
    "\n",
    "Even though, sometimes csv files will be read repetitively, it has following advantages. \n",
    "\n",
    "* It will prevent modified data from different quesitons being used. \n",
    "\n",
    "* Also, it will allow code of each question to be executed independently to improve performance while testing.\n",
    "\n",
    "So, I decide to sacrifice the overall performance to decouple the functions and ensure they don't have dependency. \n",
    "\n",
    "I also used functions to modularise the problem to make the code more readable. All functions will be presented in this report first, all of the execution and final results of the questions will be at the end of this report. \n",
    "\n",
    "\n",
    "\n"
   ]
  },
  {
   "cell_type": "markdown",
   "metadata": {},
   "source": [
    "#### Global variable and Library import"
   ]
  },
  {
   "cell_type": "code",
   "execution_count": 1,
   "metadata": {},
   "outputs": [],
   "source": [
    "import pandas as pd\n",
    "import matplotlib.pyplot as plt\n",
    "import numpy as np\n",
    "from scipy.stats import norm\n",
    "\n",
    "practicesName = \"T201804ADDR+BNFT.CSV\"\n",
    "presFile = \"T201804PDPI+BNFT.CSV\"\n",
    "columnNamePrac = ['code','surgury','surgery','address','city','county','postcode']\n",
    "patiFile = \"gp-reg-pat-prac-all.csv\"\n"
   ]
  },
  {
   "cell_type": "markdown",
   "metadata": {},
   "source": [
    "## Assignment A"
   ]
  },
  {
   "cell_type": "markdown",
   "metadata": {},
   "source": [
    "### Function Part:"
   ]
  },
  {
   "cell_type": "markdown",
   "metadata": {},
   "source": [
    "This is a function to read csv into pandas frame for all the questions to use. "
   ]
  },
  {
   "cell_type": "code",
   "execution_count": 2,
   "metadata": {},
   "outputs": [],
   "source": [
    "def readToPandas(name,columnName):\n",
    "    if(columnName==None):\n",
    "        pandasInfo = pd.read_csv(name)\n",
    "    else:\n",
    "        pandasInfo = pd.read_csv(name,skiprows=1, names =columnName)\n",
    "    return pandasInfo"
   ]
  },
  {
   "cell_type": "markdown",
   "metadata": {},
   "source": [
    "#### Q1."
   ]
  },
  {
   "cell_type": "markdown",
   "metadata": {},
   "source": [
    "Question 1 and 2 retrieves data about a certain range of practices and their patient number as well as prescription details. \n",
    "\n",
    "This is the function for retriving a list of practice's code in a city.\n",
    "practiceInfo will be a dataframe retrieved from the csv file and city will be a string of the city's name. (Eg. 'London', 'Cambridge')"
   ]
  },
  {
   "cell_type": "code",
   "execution_count": 3,
   "metadata": {},
   "outputs": [],
   "source": [
    "# return london practice code as list\n",
    "def getCityPractice(practiceInfo,city):\n",
    "    practiceInfo['city'] = practiceInfo['city'].str.strip()\n",
    "    practiceInfo['county'] = practiceInfo['county'].str.strip()\n",
    "    cityPrac = practiceInfo.loc[(practiceInfo['city'] == city) | (practiceInfo['county'] == city)]\n",
    "    cityPracList = cityPrac['code'].tolist()\n",
    "    return cityPracList\n"
   ]
  },
  {
   "cell_type": "markdown",
   "metadata": {},
   "source": [
    "This is the function for getting the total number of patients, given a list of practice's codes. \n",
    "\n",
    "(parameter Q is the question number, irrelevant to the logic of the code)"
   ]
  },
  {
   "cell_type": "code",
   "execution_count": 4,
   "metadata": {},
   "outputs": [],
   "source": [
    "# get total patient number related to the practiselist and also print practices that doesnt exists\n",
    "def getPatientNumber(practiceList,Q):\n",
    "    pati = readToPandas(patiFile,None)\n",
    "    patiNumDict = dict(zip(pati.CODE, pati.NUMBER_OF_PATIENTS))\n",
    "    sum = 0\n",
    "    errorList = []\n",
    "    for paticode in practiceList:\n",
    "        if(paticode in patiNumDict.keys()):\n",
    "            sum = sum + patiNumDict[paticode]\n",
    "        else:\n",
    "            errorList.append(paticode)\n",
    "    print('Q'+str(Q)+' 1).total num of patients: ' + str(sum))\n",
    "    print('      doesnt exist practice: ' + str(errorList))\n"
   ]
  },
  {
   "cell_type": "markdown",
   "metadata": {},
   "source": [
    "This is the function for getting the total prescriptions, given a list of the practice's codes."
   ]
  },
  {
   "cell_type": "code",
   "execution_count": 5,
   "metadata": {},
   "outputs": [],
   "source": [
    "# get total number of prescriptions\n",
    "def getTotalPres(practiceList,Q):\n",
    "    presColumn = [' SHA', 'PCT', 'PRACTICE', 'BNF CODE', 'BNF NAME', 'ITEMS', 'NIC', 'ACT_COST', 'QUANTITY', 'PERIOD',\n",
    "                  'Null']\n",
    "    presInfo = readToPandas(presFile,presColumn)\n",
    "    presQuantity = presInfo[['PRACTICE', 'ITEMS']]\n",
    "    presQuantity = presQuantity.loc[presQuantity['PRACTICE'].isin(practiceList)][['PRACTICE','ITEMS']]\n",
    "    presQuantity = presQuantity[['PRACTICE', 'ITEMS']]\n",
    "    sum  = presQuantity['ITEMS'].sum()\n",
    "    print('Q'+str(Q)+' 2).total num of prescription : ' + str(sum))"
   ]
  },
  {
   "cell_type": "markdown",
   "metadata": {},
   "source": [
    "This is the function for getting the total cost of all the prescriptions, given a list of the practice's codes."
   ]
  },
  {
   "cell_type": "code",
   "execution_count": 6,
   "metadata": {},
   "outputs": [],
   "source": [
    "# get total cost of prescriptions\n",
    "def getTotalPresCost(practiceList,Q):\n",
    "    presColumn = [' SHA', 'PCT', 'PRACTICE', 'BNF CODE', 'BNF NAME', 'ITEMS', 'NIC', 'ACT_COST', 'QUANTITY', 'PERIOD',\n",
    "                  'Null']\n",
    "    presInfo = readToPandas(presFile, presColumn)\n",
    "    presCost = presInfo[['PRACTICE','ITEMS', 'ACT_COST']]\n",
    "    presCost = presCost.loc[presCost['PRACTICE'].isin(practiceList)][['PRACTICE', 'ITEMS','ACT_COST']]\n",
    "    presCost = presCost[['PRACTICE', 'ITEMS','ACT_COST']]\n",
    "# this line is for modify total cost, in case total cost is actual cost * item or * quantity\n",
    "    presCost['TOTAL_COST'] = presCost['ACT_COST']\n",
    "\n",
    "    sum = presCost['TOTAL_COST'].sum()\n",
    "    print('Q'+str(Q)+' 3).total cost of prescription : ' + str(sum))"
   ]
  },
  {
   "cell_type": "markdown",
   "metadata": {},
   "source": [
    "This is the function presenting the bottom 10 and the top 10 biggest quantity(most frequently used) prescriptions, given a list of the practice's codes. "
   ]
  },
  {
   "cell_type": "code",
   "execution_count": 7,
   "metadata": {},
   "outputs": [],
   "source": [
    "# get the top 10 and bottom 10 mostly prescribed prescriptions\n",
    "def getFrequencyOfPres(practiceList,Q):\n",
    "    presColumn = [' SHA', 'PCT', 'PRACTICE', 'BNF_CODE', 'BNF_NAME', 'ITEMS', 'NIC', 'ACT_COST', 'QUANTITY', 'PERIOD',\n",
    "                  'Null']\n",
    "    presInfo = readToPandas(presFile, presColumn)\n",
    "    presFreq = presInfo[['PRACTICE','BNF_NAME','QUANTITY']]\n",
    "    presFreqLn = presFreq.loc[presFreq['PRACTICE'].isin(practiceList)][['BNF_NAME','QUANTITY']]\n",
    "    presFreqLn  = presFreqLn[['BNF_NAME','QUANTITY']]\n",
    "    presFreqLn = presFreqLn.groupby('BNF_NAME').sum()\n",
    "    presFreqLn = presFreqLn.sort_values('QUANTITY')\n",
    "\n",
    "    print('Q'+str(Q)+' 4).most frequently used prescription : ' )\n",
    "    print(presFreqLn.nlargest(10,'QUANTITY'))\n",
    "    print('\\n\\n')\n",
    "    print('Q'+str(Q)+' 4).least frequently used prescription : : ' )\n",
    "    print(presFreqLn.nsmallest(10,'QUANTITY'))\n",
    "    print('\\n\\n')"
   ]
  },
  {
   "cell_type": "markdown",
   "metadata": {},
   "source": [
    "#### Q2."
   ]
  },
  {
   "cell_type": "markdown",
   "metadata": {},
   "source": [
    "Q2 will be reusing the code from Q1 but change the city name to Cambridge instead of London."
   ]
  },
  {
   "cell_type": "markdown",
   "metadata": {},
   "source": [
    "#### Q3.\n",
    "This is the function to get all prescriptions in the csv file that is related to a certain disease. (Eg. cardiovascular disease (British National Formulary chapter, antidepressants (British National Formulary chapter 4.3))\n",
    "\n",
    "ChapNum is the chapter number given as an ontology to identify the prescription of interest. \n",
    "\n",
    "\n",
    "The BNF code will be used in this case.\n",
    "\n",
    "So if chapter 4.3 is given, then chapNum will be 0403 and any drug that BNF_CODE is began with 0403 will the the prescription of interest."
   ]
  },
  {
   "cell_type": "code",
   "execution_count": 8,
   "metadata": {},
   "outputs": [],
   "source": [
    "# get all prescriptions that is related to a specific disease or topic\n",
    "def getAllPresRelatedToChapter(chapNum):\n",
    "    presColumn = [' SHA', 'PCT', 'PRACTICE', 'BNF_CODE', 'BNF_NAME', 'ITEMS', 'NIC', 'ACT_COST', 'QUANTITY', 'PERIOD',\n",
    "                  'Null']\n",
    "    presInfo = readToPandas(presFile, presColumn)\n",
    "    presCode = presInfo[['BNF_CODE', 'ITEMS','ACT_COST']]\n",
    "    # find chapter related\n",
    "    presCha = presCode.loc[lambda presCode: ((presCode.BNF_CODE > chapNum ) & (presCode.BNF_CODE < str(0)+str(int(chapNum)+1))), :]\n",
    "    sum  = presCha['ITEMS'].sum()\n",
    "    print('Q3.total num of prescription related to chapter' + chapNum + ' is '+str(sum))\n",
    "\n",
    "    presCha = presCha[['BNF_CODE', 'ITEMS','ACT_COST']]\n",
    "    presCha['TOTAL_COST'] = presCha['ACT_COST']\n",
    "\n",
    "    totalcost = presCha['TOTAL_COST'].sum()\n",
    "    print('Q3.total cost of prescription related to chapter' + chapNum + ' is '+str(totalcost))"
   ]
  },
  {
   "cell_type": "markdown",
   "metadata": {},
   "source": [
    "#### Q4\n",
    "The scatterplot function below will plot two diagrams for visualising the total spending and registered patients for each practice and then plot a scatter plot. Also a trendline will be fit to see the trend of the general summary of data points.\n",
    "\n",
    "The plothist function will plot the histogram for relative spending per patients of all practices and if there is a trend of normal distribution, a normal curve will be fit to represent that distribution.\n"
   ]
  },
  {
   "cell_type": "code",
   "execution_count": 9,
   "metadata": {},
   "outputs": [],
   "source": [
    "# Q4 1). plot a scatter plot for cost per patients and total cost of all of the patients in that practice\n",
    "def scatterplot():\n",
    "    presColumn = [' SHA', 'PCT', 'PRACTICE', 'BNF_CODE', 'BNF_NAME', 'ITEMS', 'NIC', 'ACT_COST', 'QUANTITY', 'PERIOD',\n",
    "                  'Null']\n",
    "    presInfo = readToPandas(presFile, presColumn)\n",
    "    presInfo = presInfo[['PRACTICE','ACT_COST', 'ITEMS']]\n",
    "    presInfo['TOTAL_COST'] = presInfo['ACT_COST']\n",
    "\n",
    "    presUpdated = presInfo[['PRACTICE','TOTAL_COST']]\n",
    "    presUpdated = presUpdated.groupby('PRACTICE').sum()\n",
    "\n",
    "    # read in information about practice code and number of patients in that practice\n",
    "    pati = readToPandas(patiFile, None)\n",
    "    pati = pati[['CODE','NUMBER_OF_PATIENTS']]\n",
    "    pati.rename(columns={'CODE':'PRACTICE'}, inplace=True)\n",
    "\n",
    "    res = pd.merge(pati, presUpdated, on = 'PRACTICE')\n",
    "    res['COST_PER_PATIENT'] = res['TOTAL_COST']/res['NUMBER_OF_PATIENTS']\n",
    "    originalRowNum = len(res.index)\n",
    "\n",
    "    # get rid of super small practice that has less than 1000 patients because the mean is 4592 and 25%- 75% interquatile range is 3020-5540\n",
    "    res = res.loc[lambda res: (((res.NUMBER_OF_PATIENTS<35000) & (res.TOTAL_COST<75000000))), :]\n",
    "    print(res.describe())\n",
    "    print(\"Filtered out \" + str(originalRowNum - len(res.index)) + \" outliers.\")\n",
    "    x = res['NUMBER_OF_PATIENTS']\n",
    "    y = res['TOTAL_COST']\n",
    "    plt.scatter(x, y)\n",
    "\n",
    "    z = np.polyfit(x, y, 1)\n",
    "    p = np.poly1d(z)\n",
    "    plt.plot(x, p(x), \"r--\",markersize=3)\n",
    "    plt.xlabel(\"Patient Number\")\n",
    "    plt.ylabel(\"Total Cost\")\n",
    "\n",
    "\n",
    "    plt.show()"
   ]
  },
  {
   "cell_type": "code",
   "execution_count": 10,
   "metadata": {},
   "outputs": [],
   "source": [
    "# Q4 2). plot the histogram for the cost per person for prescripitons\n",
    "def plothist():\n",
    "    presColumn = [' SHA', 'PCT', 'PRACTICE', 'BNF_CODE', 'BNF_NAME', 'ITEMS', 'NIC', 'ACT_COST', 'QUANTITY',\n",
    "                  'PERIOD',\n",
    "                  'Null']\n",
    "    presInfo = readToPandas(presFile, presColumn)\n",
    "    presInfo['TOTAL_COST'] = presInfo['ACT_COST']\n",
    "# print pres info \n",
    "    print(presInfo.describe())\n",
    "    presUpdated = presInfo[['PRACTICE','TOTAL_COST']]\n",
    "    presUpdated = presUpdated.groupby('PRACTICE').sum()\n",
    "\n",
    "    pati = readToPandas(patiFile, None)\n",
    "    pati = pati[['CODE', 'NUMBER_OF_PATIENTS']]\n",
    "    pati.rename(columns={'CODE': 'PRACTICE'}, inplace=True)\n",
    "# merge two tables with key 'practice' and filter out out liers\n",
    "    res = pd.merge(pati, presUpdated, on='PRACTICE')\n",
    "    res['COST_PER_PATIENT'] = res['TOTAL_COST'] / res['NUMBER_OF_PATIENTS']\n",
    "    res = res.loc[lambda res: (((res.COST_PER_PATIENT<30))), :]\n",
    "    print(res.describe())\n",
    "#  plot histogram for cost per patients\n",
    "    df = pd.DataFrame({'A': res['COST_PER_PATIENT']})\n",
    "    df.A.plot(kind='hist', density=True)\n",
    "    mean = np.mean( res['COST_PER_PATIENT'])\n",
    "    std = np.std( res['COST_PER_PATIENT'])\n",
    "    range = np.arange(0, 30, 0.001)\n",
    "    plt.xlabel(\"Cost Per Patient\")\n",
    "    plt.plot(range, norm.pdf(range, mean, std))\n",
    "    plt.show()\n"
   ]
  },
  {
   "cell_type": "markdown",
   "metadata": {},
   "source": [
    "### Execution Part and Answers: "
   ]
  },
  {
   "cell_type": "markdown",
   "metadata": {},
   "source": [
    "#### Q1."
   ]
  },
  {
   "cell_type": "markdown",
   "metadata": {},
   "source": [
    "Get london practice names for later use.\n",
    "Store the practice' codes as a list in 'praclistLn' variable"
   ]
  },
  {
   "cell_type": "code",
   "execution_count": 36,
   "metadata": {},
   "outputs": [],
   "source": [
    "praclistLn = getCityPractice(readToPandas(practicesName,columnNamePrac),'LONDON')"
   ]
  },
  {
   "cell_type": "code",
   "execution_count": 12,
   "metadata": {
    "scrolled": true
   },
   "outputs": [
    {
     "name": "stdout",
     "output_type": "stream",
     "text": [
      "Q1 1).total num of patients: 5841956\n",
      "      doesnt exist practice: ['E85110', 'F83676', 'F84737', 'F84743', 'F84744', 'H85697', 'E87774', 'F84750', 'Y00416', 'Y00535', 'Y00672', 'Y00762', 'Y00936', 'Y01052', 'Y01162', 'Y01692', 'Y01704', 'Y01731', 'Y02085', 'Y02291', 'Y02292', 'Y02314', 'Y02315', 'Y02385', 'Y02408', 'Y02456', 'Y02522', 'Y02604', 'Y02785', 'Y02869', 'Y02914', 'Y03047', 'Y03077', 'Y03086', 'Y03094', 'Y03103', 'Y03106', 'Y03109', 'Y03127', 'Y03161', 'Y03201', 'Y03211', 'Y03243', 'Y03259', 'Y03304', 'Y03372', 'Y03387', 'Y03410', 'Y03433', 'Y03434', 'Y03461', 'Y03471', 'Y03479', 'Y03492', 'Y03493', 'Y03498', 'Y03504', 'Y03538', 'Y03575', 'Y03713', 'Y03766', 'Y03767', 'Y03768', 'Y03769', 'Y03781', 'Y03796', 'Y03897', 'Y03900', 'Y03901', 'Y03915', 'Y04091', 'Y04105', 'Y04140', 'Y04160', 'Y04183', 'Y04195', 'Y04274', 'Y04460', 'Y04474', 'Y04501', 'Y04502', 'Y04531', 'Y04551', 'Y04552', 'Y04647', 'Y04658', 'Y04681', 'Y04685', 'Y04690', 'Y04711', 'Y04729', 'Y04794', 'Y04828', 'Y04831', 'Y04836', 'Y04837', 'Y04872', 'Y04900', 'Y04901', 'Y04920', 'Y04921', 'Y04922', 'Y04923', 'Y04933', 'Y04994', 'Y05000', 'Y05005', 'Y05020', 'Y05024', 'Y05033', 'Y05034', 'Y05035', 'Y05037', 'Y05039', 'Y05040', 'Y05042', 'Y05046', 'Y05048', 'Y05049', 'Y05050', 'Y05052', 'Y05053', 'Y05054', 'Y05055', 'Y05056', 'Y05124', 'Y05160', 'Y05161', 'Y05162', 'Y05163', 'Y05187', 'Y05190', 'Y05192', 'Y05194', 'Y05200', 'Y05201', 'Y05206', 'Y05228', 'Y05243', 'Y05244', 'Y05249', 'Y05257', 'Y05280', 'Y05293', 'Y05310', 'Y05325', 'Y05337', 'Y05345', 'Y05372', 'Y05380', 'Y05392', 'Y05401', 'Y05454', 'Y05455', 'Y05481', 'Y05482', 'Y05493', 'Y05502', 'Y05552', 'Y05565', 'Y05566', 'Y05642', 'Y05643', 'Y05644', 'Y05646', 'Y05658', 'Y05686', 'Y05689', 'Y05691', 'Y05696', 'Y05741', 'Y05813', 'Y05837', 'Y05838', 'Y05850', 'Y05855', 'Y05858', 'Y05881', 'Y05889', 'Y05904', 'Y05954', 'Y05984']\n"
     ]
    }
   ],
   "source": [
    "getPatientNumber(praclistLn,1)"
   ]
  },
  {
   "cell_type": "code",
   "execution_count": 13,
   "metadata": {},
   "outputs": [
    {
     "name": "stdout",
     "output_type": "stream",
     "text": [
      "Q1 2).total num of prescription : 5880634\n"
     ]
    }
   ],
   "source": [
    "getTotalPres(praclistLn,1)"
   ]
  },
  {
   "cell_type": "code",
   "execution_count": 14,
   "metadata": {},
   "outputs": [
    {
     "name": "stdout",
     "output_type": "stream",
     "text": [
      "Q1 3).total cost of prescription : 43322000.54\n"
     ]
    }
   ],
   "source": [
    "getTotalPresCost(praclistLn,1)"
   ]
  },
  {
   "cell_type": "code",
   "execution_count": 15,
   "metadata": {},
   "outputs": [
    {
     "name": "stdout",
     "output_type": "stream",
     "text": [
      "Q1 4).most frequently used prescription : \n",
      "                                          QUANTITY\n",
      "BNF_NAME                                          \n",
      "Ensure Plus_Milkshake Style Liq (9 Flav)  17023232\n",
      "Metformin HCl_Tab 500mg                   11706703\n",
      "Fortisip Bottle_Liq (8 Flav)              10217184\n",
      "Lactulose_Soln 3.1g-3.7g/5ml               9283922\n",
      "Paracet_Tab 500mg                          7690436\n",
      "Dermol 500_Lot                             6717500\n",
      "Ensure Compact_Liq (4 Flav)                6565947\n",
      "Fresubin 2kcal_Drink (6 Flav)              6556352\n",
      "Fortisip Compact_Liq (8 Flav)              5455500\n",
      "Omeprazole_Cap E/C 20mg                    4665483\n",
      "\n",
      "\n",
      "\n",
      "Q1 4).least frequently used prescription : : \n",
      "                                          QUANTITY\n",
      "BNF_NAME                                          \n",
      "Methotrexate_Inj 7.5mg/0.3ml Pfs                 0\n",
      "Clini Med Cervical Collar Soft Foam              1\n",
      "Lymed M/M For L/Extrem Class 2 Tights Fl         1\n",
      "Lymed Acc For Lower Extremities Non-Stnd         1\n",
      "Trevicta_Inj 263mg/1.315ml Pfs P/R               1\n",
      "Trio_Silken Slc Stoma Gel 60g                    1\n",
      "Bard Slc Elastomer-Ctd Ltx Foy Fle 30ml          1\n",
      "LoFric Non PVC Nelaton Paed 30cm 8-10(30         1\n",
      "LoFric Non PVC Nelaton Paed 20cm 6 (30-P         1\n",
      "LoFric Insti-Cath Nelaton Male 8-14(30-P         1\n",
      "\n",
      "\n",
      "\n"
     ]
    }
   ],
   "source": [
    "getFrequencyOfPres(praclistLn,1)"
   ]
  },
  {
   "cell_type": "markdown",
   "metadata": {},
   "source": [
    "#### Answer for Q1:\n",
    "    \n",
    "1).Total number of patients is 5841956.\n",
    "    \n",
    " Uncleaned Data: However, there exists practices that exists in the practice csv file but doesnt not exist in the patient csv file. This may be due to the human error while inputting. Uncleaned data is processed by excluding practices that doesnt exists in the patient csv file, because i feel it is very hard to estimate the patient number in those practices logically. These code are presented as well in the form of a list for future use. \n",
    "    \n",
    "2).Total num of prescription : 5880634\n",
    "    \n",
    "3).Total cost of prescription : 43322000\n",
    "    \n",
    "For the prescription cost, I use act_cost column as the total cost of this prescripition,assuming act_cost is the price of a single prescription. \n",
    "\n",
    "4).Top 10 most frequently used prescriptions are:\n",
    "\n",
    "Ensure Plus_Milkshake Style Liq (9 Flav)  \n",
    "Metformin HCl_Tab 500mg                   \n",
    "Fortisip Bottle_Liq (8 Flav)              \n",
    "Lactulose_Soln 3.1g-3.7g/5ml               \n",
    "Paracet_Tab 500mg                          \n",
    "Dermol 500_Lot                             \n",
    "Ensure Compact_Liq (4 Flav)                \n",
    "Fresubin 2kcal_Drink (6 Flav)              \n",
    "Fortisip Compact_Liq (8 Flav)              \n",
    "Omeprazole_Cap E/C 20mg                    \n",
    "\n",
    "5).Top 10 least frequently used prescriptions are:\n",
    "\n",
    "Methotrexate_Inj 7.5mg/0.3ml Pfs                 \n",
    "Clini Med Cervical Collar Soft Foam              \n",
    "Lymed M/M For L/Extrem Class 2 Tights Fl         \n",
    "Lymed Acc For Lower Extremities Non-Stnd         \n",
    "Trevicta_Inj 263mg/1.315ml Pfs P/R               \n",
    "Trio_Silken Slc Stoma Gel 60g                    \n",
    "Bard Slc Elastomer-Ctd Ltx Foy Fle 30ml          \n",
    "LoFric Non PVC Nelaton Paed 30cm 8-10(30         \n",
    "LoFric Non PVC Nelaton Paed 20cm 6 (30-P         \n",
    "LoFric Insti-Cath Nelaton Male 8-14(30-P        \n",
    "    \n",
    "For top 10 least frequently used prescriptions, because more than 10 prescriptions are used only once, so there are more prescriptions fitting this criteria. So in this report, for presentation use, the prescriptions will be chosen based on the order of presents of the prescription in the csv file.\n",
    "    "
   ]
  },
  {
   "cell_type": "markdown",
   "metadata": {},
   "source": [
    "   #### Q2\n",
    "   For question 2, I will be using the same functions as question 1. I will pass the city name cambridge as an argument to the functions to get a list of practice's code in Cambridge."
   ]
  },
  {
   "cell_type": "code",
   "execution_count": 16,
   "metadata": {},
   "outputs": [
    {
     "data": {
      "text/plain": [
       "['D81001',\n",
       " 'D81002',\n",
       " 'D81003',\n",
       " 'D81005',\n",
       " 'D81009',\n",
       " 'D81012',\n",
       " 'D81013',\n",
       " 'D81016',\n",
       " 'D81017',\n",
       " 'D81025',\n",
       " 'D81028',\n",
       " 'D81033',\n",
       " 'D81035',\n",
       " 'D81037',\n",
       " 'D81041',\n",
       " 'D81042',\n",
       " 'D81043',\n",
       " 'D81044',\n",
       " 'D81051',\n",
       " 'D81054',\n",
       " 'D81055',\n",
       " 'D81056',\n",
       " 'D81058',\n",
       " 'D81066',\n",
       " 'D81070',\n",
       " 'D81078',\n",
       " 'D81084',\n",
       " 'D81086',\n",
       " 'D81602',\n",
       " 'D81607',\n",
       " 'Y00056',\n",
       " 'Y01778',\n",
       " 'Y02991',\n",
       " 'Y03550',\n",
       " 'Y04602',\n",
       " 'Y05839']"
      ]
     },
     "execution_count": 16,
     "metadata": {},
     "output_type": "execute_result"
    }
   ],
   "source": [
    "praclistCA = getCityPractice(readToPandas(practicesName,columnNamePrac),'CAMBRIDGE')\n",
    "praclistCA"
   ]
  },
  {
   "cell_type": "code",
   "execution_count": 17,
   "metadata": {},
   "outputs": [
    {
     "name": "stdout",
     "output_type": "stream",
     "text": [
      "Q2 1).total num of patients: 311579\n",
      "      doesnt exist practice: ['Y01778', 'Y02991', 'Y03550', 'Y04602', 'Y05839']\n"
     ]
    }
   ],
   "source": [
    "getPatientNumber(praclistCA,2)"
   ]
  },
  {
   "cell_type": "code",
   "execution_count": 18,
   "metadata": {},
   "outputs": [
    {
     "name": "stdout",
     "output_type": "stream",
     "text": [
      "Q2 2).total num of prescription : 345532\n"
     ]
    }
   ],
   "source": [
    "getTotalPres(praclistCA,2)"
   ]
  },
  {
   "cell_type": "code",
   "execution_count": 19,
   "metadata": {},
   "outputs": [
    {
     "name": "stdout",
     "output_type": "stream",
     "text": [
      "Q2 3).total cost of prescription : 2434403.94\n"
     ]
    }
   ],
   "source": [
    "getTotalPresCost(praclistCA,2)"
   ]
  },
  {
   "cell_type": "code",
   "execution_count": 20,
   "metadata": {},
   "outputs": [
    {
     "name": "stdout",
     "output_type": "stream",
     "text": [
      "Q2 4).most frequently used prescription : \n",
      "                                          QUANTITY\n",
      "BNF_NAME                                          \n",
      "Fortisip Compact_Liq (8 Flav)               924625\n",
      "Nutrison Pack_Energy                        651324\n",
      "Paracet_Tab 500mg                           573923\n",
      "Fortisip Bottle_Liq (8 Flav)                508936\n",
      "Dermol 500_Lot                              447500\n",
      "Omeprazole_Cap E/C 20mg                     443650\n",
      "Nutrison Pack_Energy M/Fibre                437716\n",
      "Lactulose_Soln 3.1g-3.7g/5ml                420220\n",
      "Metformin HCl_Tab 500mg                     328345\n",
      "Nutrison Pack_Conc Liq                      298500\n",
      "\n",
      "\n",
      "\n",
      "Q2 4).least frequently used prescription : : \n",
      "                                          QUANTITY\n",
      "BNF_NAME                                          \n",
      "Picato_Gel 500mcg/g                              0\n",
      "Hollister Infyna Plus Hydro Intermit Fle         1\n",
      "BioXtra Dry Mth Mild Toothpaste 50ml (Ap         1\n",
      "BioXtra Dry Mth Gel Mth Spy 50ml (App)           1\n",
      "Enopen Crm 500g                                  1\n",
      "NovoPen Echo Red Pen 3ml 0.5u (0.5-30u)          1\n",
      "Flutter Oscillating Positive Expiratory          1\n",
      "Ins Lantus_100u/ml 10ml Vl                       1\n",
      "Coloplast_Brava Belt (For Sensura Mio) S         1\n",
      "ReadyWrap Knee Lymph Gmt                         1\n",
      "\n",
      "\n",
      "\n"
     ]
    }
   ],
   "source": [
    "getFrequencyOfPres(praclistCA,2)"
   ]
  },
  {
   "cell_type": "markdown",
   "metadata": {},
   "source": [
    "#### Answer for Q2:\n",
    "\n",
    "Same methodology is applied as question 1. So the code of question one can be reused for Q2.\n",
    "\n",
    "1).Total number of patients is 311579.\n",
    "\n",
    "Uncleaned data will be processed in the same way as question 1.\n",
    "\n",
    "2).Total num of prescription : 345532\n",
    "\n",
    "3).Total cost of prescription : 2434403\n",
    "\n",
    "4).Top 10 most frequently used prescriptions are:\n",
    "\n",
    "Fortisip Compact_Liq (8 Flav)               \n",
    "Nutrison Pack_Energy                        \n",
    "Paracet_Tab 500mg                           \n",
    "Fortisip Bottle_Liq (8 Flav)                \n",
    "Dermol 500_Lot                              \n",
    "Omeprazole_Cap E/C 20mg                     \n",
    "Nutrison Pack_Energy M/Fibre                \n",
    "Lactulose_Soln 3.1g-3.7g/5ml                \n",
    "Metformin HCl_Tab 500mg                     \n",
    "Nutrison Pack_Conc Liq                      \n",
    "                     \n",
    "5).Top 10 least frequently used prescriptions are:\n",
    "\n",
    "Picato_Gel 500mcg/g                              \n",
    "Hollister Infyna Plus Hydro Intermit Fle         \n",
    "BioXtra Dry Mth Mild Toothpaste 50ml (Ap         \n",
    "BioXtra Dry Mth Gel Mth Spy 50ml (App)           \n",
    "Enopen Crm 500g                                  \n",
    "NovoPen Echo Red Pen 3ml 0.5u (0.5-30u)          \n",
    "Flutter Oscillating Positive Expiratory          \n",
    "Ins Lantus_100u/ml 10ml Vl                       \n",
    "Coloplast_Brava Belt (For Sensura Mio) S         \n",
    "ReadyWrap Knee Lymph Gmt                             \n",
    "\n",
    "For top 10 least frequently used prescriptions, because more than 10 prescriptions are used only once, so there are more prescriptions fitting this criteria. So in this report, for presentation use, the prescriptions will be chosen based on the order of present of the prescription in the csv file."
   ]
  },
  {
   "cell_type": "markdown",
   "metadata": {},
   "source": [
    "#### Discuss and Compare Q1 and Q2\n",
    "\n",
    "In April 2018, London had around 18 times more patients than cambridge has. The prescription ratio is slightly higher, London used 20 times more prescriptions than Cambridge did. This means London patients uses more prescriptions. The ratio of the total cost is also 20, this means the price of individual drugs being used by London patients and Cambridge patients are similar.\n",
    "\n",
    "For the prescriptions, both cities used Fortisip, Lactulose_Soln, Dermol, Omeprazole_Cap, Metformin, Paracet_Tab very frequently, 6 out of 10 drugs are on the top 10 most frequently used list for both cities, meaning both cities has very similar popular prescription structure.\n",
    "\n",
    "\n"
   ]
  },
  {
   "cell_type": "markdown",
   "metadata": {},
   "source": [
    "   #### Q3"
   ]
  },
  {
   "cell_type": "code",
   "execution_count": 21,
   "metadata": {},
   "outputs": [
    {
     "name": "stdout",
     "output_type": "stream",
     "text": [
      "Q3.total num of prescription related to chapter02 is 26449832\n",
      "Q3.total cost of prescription related to chapter02 is 90193834.01999994\n"
     ]
    }
   ],
   "source": [
    "getAllPresRelatedToChapter('02')"
   ]
  },
  {
   "cell_type": "code",
   "execution_count": 22,
   "metadata": {},
   "outputs": [
    {
     "name": "stdout",
     "output_type": "stream",
     "text": [
      "Q3.total num of prescription related to chapter0403 is 5715873\n",
      "Q3.total cost of prescription related to chapter0403 is 16853470.86\n"
     ]
    }
   ],
   "source": [
    "getAllPresRelatedToChapter('0403')"
   ]
  },
  {
   "cell_type": "markdown",
   "metadata": {},
   "source": [
    "Answer for Q3:\n",
    "\n",
    "I retrieved all of the prescriptions related to cardiovascular disease by selecting all rows with the BNF_CODE that started with 02, which represents British National Formulary chapter 2. \n",
    "\n",
    "Then I found the total cost of all prescriptions under British National Formulary chapter 2 to get the total cost of prescriptions individually and then sum them up. \n",
    "\n",
    "1). Total number of prescription related to cardiovascular disease across all practices is: 26449832\n",
    "\n",
    "2). Total cost of prescription related to cardiovascular disease across all practices is: 90193834\n",
    "\n",
    "\n",
    "3). Total number of prescription related to antidepressants across all practices is: 5715873\n",
    "\n",
    "4). Total cost of prescription related to antidepressants across all practices is: 16853470\n",
    "\n",
    "The total number of prescriptions related to cardiovascular disease in UK practices is almost 5 times more than the total number of prescription related to antidepressants. This may be due to the fact that the cardiovascular disease is more common and also more general compare to the antidepressants. Factors like usage of the prescription and the quantity of each prescripition item should also be taken into account while explaining the findings.\n",
    "   \n",
    "   "
   ]
  },
  {
   "cell_type": "markdown",
   "metadata": {},
   "source": [
    "#### Q4"
   ]
  },
  {
   "cell_type": "code",
   "execution_count": 23,
   "metadata": {},
   "outputs": [
    {
     "name": "stdout",
     "output_type": "stream",
     "text": [
      "       NUMBER_OF_PATIENTS     TOTAL_COST  COST_PER_PATIENT\n",
      "count         7167.000000    7167.000000       7167.000000\n",
      "mean          8084.409934   86729.663160         11.614222\n",
      "std           4674.848379   54996.500632         38.933256\n",
      "min              3.000000       3.250000          0.001724\n",
      "25%           4547.000000   45016.805000          8.876875\n",
      "50%           7249.000000   76007.140000         10.916036\n",
      "75%          10700.500000  117392.910000         12.695096\n",
      "max          33501.000000  472709.770000       2830.020000\n",
      "Filtered out 24 outliers.\n"
     ]
    },
    {
     "data": {
      "image/png": "[encoded data removed]",
      "text/plain": [
       "<Figure size 432x288 with 1 Axes>"
      ]
     },
     "metadata": {
      "needs_background": "light"
     },
     "output_type": "display_data"
    }
   ],
   "source": [
    "scatterplot()"
   ]
  },
  {
   "cell_type": "code",
   "execution_count": 24,
   "metadata": {},
   "outputs": [
    {
     "name": "stdout",
     "output_type": "stream",
     "text": [
      "              ITEMS           NIC      ACT_COST      QUANTITY     PERIOD  \\\n",
      "count  9.748354e+06  9.748354e+06  9.748354e+06  9.748354e+06  9748354.0   \n",
      "mean   9.115409e+00  7.078242e+01  6.597908e+01  7.135560e+02   201804.0   \n",
      "std    2.999382e+01  1.918400e+02  1.782526e+02  4.124964e+03        0.0   \n",
      "min    0.000000e+00  0.000000e+00  0.000000e+00  0.000000e+00   201804.0   \n",
      "25%    1.000000e+00  7.920000e+00  7.460000e+00  2.800000e+01   201804.0   \n",
      "50%    2.000000e+00  2.250000e+01  2.112000e+01  9.000000e+01   201804.0   \n",
      "75%    6.000000e+00  6.286000e+01  5.868000e+01  3.360000e+02   201804.0   \n",
      "max    5.147000e+03  3.391873e+04  3.145594e+04  2.281694e+06   201804.0   \n",
      "\n",
      "         TOTAL_COST  \n",
      "count  9.748354e+06  \n",
      "mean   6.597908e+01  \n",
      "std    1.782526e+02  \n",
      "min    0.000000e+00  \n",
      "25%    7.460000e+00  \n",
      "50%    2.112000e+01  \n",
      "75%    5.868000e+01  \n",
      "max    3.145594e+04  \n",
      "       NUMBER_OF_PATIENTS     TOTAL_COST  COST_PER_PATIENT\n",
      "count         7172.000000    7172.000000       7172.000000\n",
      "mean          8227.461935   87967.729888         10.737203\n",
      "std           5153.753063   59098.079826          3.044147\n",
      "min              4.000000       3.250000          0.001724\n",
      "25%           4573.000000   45229.292500          8.867267\n",
      "50%           7296.000000   76284.000000         10.907293\n",
      "75%          10748.250000  117979.860000         12.664011\n",
      "max          72227.000000  842838.180000         29.555000\n"
     ]
    },
    {
     "data": {
      "image/png": "[encoded data removed]",
      "text/plain": [
       "<Figure size 432x288 with 1 Axes>"
      ]
     },
     "metadata": {
      "needs_background": "light"
     },
     "output_type": "display_data"
    }
   ],
   "source": [
    "plothist()"
   ]
  },
  {
   "attachments": {},
   "cell_type": "markdown",
   "metadata": {},
   "source": [
    "#### Answer for Q4\n",
    "\n",
    "I retrieved data from both files containing prescription and patient information. The total spending of each practice can be found through finding the total cost of each prescription and then summing up all of the prescriptions of each practices. Then the number of patients of each practices can be identified so that the relative cost per patient can be found.\n",
    "\n",
    "For the scatter plot, 24 outliers is filtered out. The filtering is based on removing outliers that are extremely far away from the main trend. Each dot represent a practice and the y axis is the total cost and the x axis is the total number of patients in that practice. The trend line shows that there exists a relationship between number of patients in that practice and the total spending of that practice. The more patients they have, the more spending they have, which can be logically explained as more patients meaning more prescriptions being prescribed. \n",
    "\n",
    "For the histogram, the outliers with extremely high cost per patient is filtered out for a more readible histogram. There are 7107 number of practices and their mean cost per patient is 10 pounds per month. The normal curve fits almost perfectly to the graph indicating that the relative spending of all practices in UK are normally distributed. Most of the practices have a relative spending that is around 10 pounds. Slightly more practices have a relative spending that is higher than the mean. \n",
    "\n"
   ]
  },
  {
   "cell_type": "markdown",
   "metadata": {},
   "source": [
    "## Assignment B"
   ]
  },
  {
   "cell_type": "markdown",
   "metadata": {},
   "source": [
    "For retrieveing data from WHO mortality Database, I imported pandasql for an easier approach while retrieving data. It will be used along with pandas data frame manipulation. Also, as there are more columns for the age distribution information as well as requirement in modifying column names and sql queries manage them easier. "
   ]
  },
  {
   "cell_type": "markdown",
   "metadata": {},
   "source": [
    "### Function Part: "
   ]
  },
  {
   "cell_type": "code",
   "execution_count": 25,
   "metadata": {},
   "outputs": [],
   "source": [
    "from pandasql import PandaSQL\n",
    "pdsql = PandaSQL()\n",
    "pd.set_option('display.max_columns', 500)"
   ]
  },
  {
   "cell_type": "markdown",
   "metadata": {},
   "source": [
    "#### Q1\n",
    "The function need to be reused for three different countries therefore the country name is passed as a parameter. It will read country code csv file into a pandas data frame and look up the code for specific countries. Then the population file will be read. Because year 2010 is fixed so it is not passed as a parameter but hard coded into the code, however, it can be passed in as a parameter based on different requirements.\n",
    "\n",
    "After the poupulation of a country in a specific year is found, the death number can also be found using the same way. However, as death information has 2 files, the pandas data frame needs to be merged into one. "
   ]
  },
  {
   "cell_type": "code",
   "execution_count": 26,
   "metadata": {},
   "outputs": [],
   "source": [
    "# find details about the country including the total population and total death\n",
    "def findDetail(country):\n",
    "#     find country code\n",
    "    countryDf = readToPandas('country_codes.csv',None)\n",
    "    code = countryDf.loc[(countryDf['name'] == country)]['country']\n",
    "    code=code.values[0]\n",
    "#     read in and select population data\n",
    "    popDF = readToPandas('pop.csv',None)\n",
    "    pop = popDF.loc[(popDF['Country'] == code)]\n",
    "    pop = pdsql(\"SELECT * FROM pop WHERE year == 2010\", locals())\n",
    "    pop = pop.groupby('Country').sum()\n",
    "    totalPopulation = pop['Pop1'].values[0]\n",
    "    print(\"Q1: total population of \"+country +\" is \" + str(totalPopulation))\n",
    "#   read in and select death data\n",
    "    deathDF1 = readToPandas('Morticd10_part1.csv',None)\n",
    "    deathDF2 = readToPandas('Morticd10_part2.csv',None)\n",
    "    deathDF= deathDF1.append(deathDF2)\n",
    "    deathDF = deathDF.loc[(deathDF['Country'] == code)]\n",
    "    death = pdsql(\"SELECT * FROM deathDF WHERE Year == 2010\", locals())\n",
    "    death = death.groupby('Country').sum()\n",
    "    totalDeath = death['Deaths1'].values[0]\n",
    "    print(\"Q1: total death of \"+country +\" is \" + str(totalDeath))"
   ]
  },
  {
   "cell_type": "markdown",
   "metadata": {},
   "source": [
    "####  Q2\n",
    "I tried to visualise the distribution of death by histogram. However, i think it will be clearer to see the distribution of death by age group with a bar chart as histogram does not clearly reflect the exact age group with specific death number. \n",
    "\n",
    "A bar chart will be ploted by this function with x axis of age group and y axis of the death number."
   ]
  },
  {
   "cell_type": "code",
   "execution_count": 27,
   "metadata": {},
   "outputs": [],
   "source": [
    "# draw a hisogram for the death number for age groups\n",
    "\n",
    "# Q2\n",
    "def histForItaly(country):\n",
    "    countryDf = readToPandas('country_codes.csv', None)\n",
    "    code = countryDf.loc[(countryDf['name'] == country)]['country']\n",
    "    code = code.values[0]\n",
    "\n",
    "    deathDF1 = readToPandas('Morticd10_part1.csv', None)\n",
    "    deathDF2 = readToPandas('Morticd10_part2.csv', None)\n",
    "\n",
    "    deathDF = deathDF1.append(deathDF2)\n",
    "    death = deathDF.loc[(deathDF['Country'] == code)]\n",
    "\n",
    "    death = death.groupby('Country').sum()\n",
    "    print(death)\n",
    "# create x and y for the graph \n",
    "    x = [0,5,10,15,20,25,30,35,40,45,50,55,60,65,70,75,80,85,90,95]\n",
    "    y =[]\n",
    "    y.append(death['Deaths2'].values[0]+death['Deaths3'].values[0]+death['Deaths4'].values[0]+death['Deaths5'].values[0]+death['Deaths6'].values[0])\n",
    "    y.append(death['Deaths7'].values[0])\n",
    "    y.append(death['Deaths8'].values[0])\n",
    "    y.append(death['Deaths9'].values[0])\n",
    "    y.append(death['Deaths10'].values[0])\n",
    "    y.append(death['Deaths11'].values[0])\n",
    "    y.append(death['Deaths12'].values[0])\n",
    "    y.append(death['Deaths13'].values[0])\n",
    "    y.append(death['Deaths14'].values[0])\n",
    "    y.append(death['Deaths15'].values[0])\n",
    "    y.append(death['Deaths16'].values[0])\n",
    "    y.append(death['Deaths17'].values[0])\n",
    "    y.append(death['Deaths18'].values[0])\n",
    "    y.append(death['Deaths19'].values[0])\n",
    "    y.append(death['Deaths20'].values[0])\n",
    "    y.append(death['Deaths21'].values[0])\n",
    "    y.append(death['Deaths22'].values[0])\n",
    "    y.append(death['Deaths23'].values[0])\n",
    "    y.append(death['Deaths24'].values[0])\n",
    "    y.append(death['Deaths25'].values[0])\n",
    "\n",
    "    graph = pd.DataFrame({'deathNum': y,'agegroup' :x})\n",
    "    plot = graph.plot.bar(y = 'deathNum',x = 'agegroup',rot=0)\n",
    "    plt.show()\n",
    "\n"
   ]
  },
  {
   "cell_type": "markdown",
   "metadata": {},
   "source": [
    "#### Q3\n",
    "This function sums up the death for each different death course across all years for neoplasm. The ICD10 code is used for selecting the death numbers and their causes. The top 5 most common death causes are selected along with their death number and percentages. Then a pie chart will be drawn based on it. All other causes will be merged into one section of the pie as some of them are too small to be readable from the chart. \n"
   ]
  },
  {
   "cell_type": "code",
   "execution_count": 28,
   "metadata": {},
   "outputs": [],
   "source": [
    "#Q3 find the top 5 most common death causes and plot them into a pie chart\n",
    "def NeoDeath(country):\n",
    "    countryDf = readToPandas('country_codes.csv', None)\n",
    "    code = countryDf.loc[(countryDf['name'] == country)]['country']\n",
    "    code = code.values[0]\n",
    "# read in data\n",
    "    deathDF1 = readToPandas('Morticd10_part1.csv', None)\n",
    "    deathDF2 = readToPandas('Morticd10_part2.csv', None)\n",
    "    deathDF = deathDF1.append(deathDF2)\n",
    "# select data and sum them up\n",
    "    death = deathDF.loc[(deathDF['Country'] == code)]\n",
    "    death1=death[['Country','Cause','Deaths1']]\n",
    "    deathPoll = pdsql(\"SELECT Cause,SUM(Deaths1) as deathNum FROM death1 WHERE Cause >= 'C00' AND Cause <= 'D48'  GROUP BY Cause\", locals())\n",
    "    Total = deathPoll['deathNum'].sum()\n",
    "# print table and graph\n",
    "    deathPoll['Percentage'] =  deathPoll['deathNum'] / Total\n",
    "    deathPollPie = deathPoll.nlargest(5,'Percentage')\n",
    "    temp = pd.DataFrame([['Other', Total*(1-deathPollPie['Percentage'].sum()),(1-deathPollPie['Percentage'].sum())]], columns=['Cause','deathNum','Percentage'])\n",
    "    deathPollPie1 = deathPollPie.append(temp)\n",
    "    print(deathPollPie1)\n",
    "    plot = deathPollPie1.plot.pie(ax = None, y='deathNum', figsize=(10,10), legend=True,\n",
    "                            autopct='%1.0f%%', pctdistance=0.9, radius=1.2,labels=deathPollPie1.Cause)\n",
    "    plt.show()"
   ]
  },
  {
   "cell_type": "markdown",
   "metadata": {},
   "source": [
    "#### Q4 \n",
    "For question 4, this question is used for rank the top 5 age group of death caused by neoplasm. \n",
    "\n",
    "Data is filtered by countries, year, cause separately for debugging purposes. \n",
    "\n",
    "After retrieving data, a transpose need to be implemented on the matrix to swap rows and columns so that all ages groups can be formed into one column of rows. Any irrelevant columns will be dropped before transpose.\n",
    "\n"
   ]
  },
  {
   "cell_type": "code",
   "execution_count": 29,
   "metadata": {},
   "outputs": [],
   "source": [
    "# Q4 rank the top 5 age group of death caused by neoplasm\n",
    "def rankNeoDeath(country):\n",
    "    countryDf = readToPandas('country_codes.csv', None)\n",
    "    code = countryDf.loc[(countryDf['name'] == country)]['country']\n",
    "    code = code.values[0]\n",
    "# read in data\n",
    "    deathDF1 = readToPandas('Morticd10_part1.csv', None)\n",
    "    deathDF2 = readToPandas('Morticd10_part2.csv', None)\n",
    "    deathDF = deathDF1.append(deathDF2)\n",
    "# select neoplasm within 2010 in specific country\n",
    "    deathCountry = deathDF.loc[(deathDF['Country'] == code)]\n",
    "    deathYear = deathCountry.loc[(deathCountry['Year'] == 2010)]\n",
    "    deathPoll = pdsql(\"SELECT *  FROM deathYear WHERE Cause >= 'C00' AND Cause <= 'D48' \", locals())\n",
    "# sum up by country\n",
    "    deathPoll = deathPoll.groupby('Country').sum()\n",
    "    deathPollD = deathPoll.drop(['Deaths1','List','Year','Sex','Frmat','IM_Frmat'],axis=1)\n",
    "# transpose\n",
    "    deathPollTrans = deathPollD.T\n",
    "    print(deathPollTrans.nlargest(5,deathPollTrans.columns.values[0]))"
   ]
  },
  {
   "cell_type": "markdown",
   "metadata": {},
   "source": [
    "#### Q5\n",
    "This function compares data from two different countries. Country names are passed in as parameters and two identical pandas data frame will be used to store same information from two different countries.\n",
    "\n",
    "Then, both pandas data frame will be processed so that they contain data about that specific country in 2010. Death number will be summed up for all causes. Two data frames will be combined into one and then transpose will be performed on them, so that all age groups will be stored in one column and their index indicates the age groups. The percentage of death of neoplasm out of the population in each age group will be calculated for both countries and then compared.\n"
   ]
  },
  {
   "cell_type": "code",
   "execution_count": 30,
   "metadata": {},
   "outputs": [],
   "source": [
    "# Q5\n",
    "def compareCountries(country1,country2):\n",
    "#     find country codes\n",
    "    countryDf = readToPandas('country_codes.csv', None)\n",
    "    code1 = countryDf.loc[(countryDf['name'] == country1)]['country']\n",
    "    code1 = code1.values[0]\n",
    "    code2 = countryDf.loc[(countryDf['name'] == country2)]['country']\n",
    "    code2 = code2.values[0]\n",
    "# read in population data and prepare \n",
    "    popDF = readToPandas('pop.csv', None)\n",
    "    pop1 = popDF.loc[(popDF['Country'] == code1)]\n",
    "    pop2 = popDF.loc[(popDF['Country'] == code2)]\n",
    "    pop1 = pdsql(\"SELECT * FROM pop1 WHERE year == 2010\", locals())\n",
    "    pop2 = pdsql(\"SELECT * FROM pop2 WHERE year == 2010\", locals())\n",
    "    pop1 = pop1.groupby('Country').sum()\n",
    "    pop2 = pop2.groupby('Country').sum()\n",
    "    pop = pop1.append(pop2)\n",
    "    popD = pop.drop(['Year','Sex','Frmat','Lb','Pop26'],axis=1)\n",
    "    popTrans = popD.T\n",
    "    popTrans.index = range(1,26)\n",
    "\n",
    "# read in death data and prepare\n",
    "    deathDF1 = readToPandas('Morticd10_part1.csv', None)\n",
    "    deathDF2 = readToPandas('Morticd10_part2.csv', None)\n",
    "    deathDF = deathDF1.append(deathDF2)\n",
    "    deathCountry1= deathDF.loc[(deathDF['Country'] == code1)]\n",
    "    deathCountry2= deathDF.loc[(deathDF['Country'] == code2)]\n",
    "    death1 = deathCountry1.loc[(deathCountry1['Year'] == 2010)]\n",
    "    death2 = deathCountry2.loc[(deathCountry2['Year'] == 2010)]\n",
    "    deathPoll1 = pdsql(\"SELECT *  FROM death1 WHERE Cause >= 'C00' AND Cause <= 'D48'\", locals())\n",
    "    deathPoll2 = pdsql(\"SELECT *  FROM death2 WHERE Cause >= 'C00' AND Cause <= 'D48'\", locals())\n",
    "    deathPoll1 = deathPoll1.groupby('Country').sum()\n",
    "    deathPoll2 = deathPoll2.groupby('Country').sum()\n",
    "    deathPoll = deathPoll1.append(deathPoll2)\n",
    "    deathPollD = deathPoll.drop(['Deaths26','List','Year','Sex','Frmat','IM_Frmat','IM_Deaths3','IM_Deaths2','IM_Deaths1','IM_Deaths4'],axis=1)\n",
    "    deathPollTrans = deathPollD.T\n",
    "    deathPollTrans.rename({deathPollTrans.columns.values[0]:'Australia' ,deathPollTrans.columns.values[1] :'Italy' })\n",
    "    deathPollTrans.index = range(1,26)\n",
    "\n",
    "#     Create a new data frame to store frequency information\n",
    "    list1 = []\n",
    "    list2=  []\n",
    "    for rowNum in range (0,24):\n",
    "        list1.append(deathPollTrans.iloc[rowNum][deathPollTrans.columns.values[0]]/popTrans.iloc[rowNum][popTrans.columns.values[0]])\n",
    "        list2.append(deathPollTrans.iloc[rowNum][deathPollTrans.columns.values[1]]/popTrans.iloc[rowNum][popTrans.columns.values[1]])\n",
    "    # prepare for index\n",
    "    i = [0, 1, 2, 3, 4]\n",
    "    for index in range(5, 100, 5):\n",
    "        i.append(index)\n",
    "# draw diagram\n",
    "    combineInfo = pd.DataFrame({'age':i ,'country1':list1,'country2':list2})\n",
    "    combineInfo = combineInfo.set_index('age')\n",
    "    print(combineInfo)\n",
    "    _ = combineInfo.plot(kind= 'bar' , rot= 0 )\n",
    "    plt.show()\n"
   ]
  },
  {
   "cell_type": "markdown",
   "metadata": {},
   "source": [
    "### Execution Part and Answers: \n"
   ]
  },
  {
   "cell_type": "code",
   "execution_count": 31,
   "metadata": {},
   "outputs": [
    {
     "name": "stdout",
     "output_type": "stream",
     "text": [
      "Q1: total population of Iceland is 318041.0\n"
     ]
    },
    {
     "name": "stderr",
     "output_type": "stream",
     "text": [
      "/anaconda3/lib/python3.6/site-packages/IPython/core/interactiveshell.py:2961: DtypeWarning: Columns (4) have mixed types. Specify dtype option on import or set low_memory=False.\n",
      "  exec(code_obj, self.user_global_ns, self.user_ns)\n",
      "/anaconda3/lib/python3.6/site-packages/IPython/core/interactiveshell.py:2961: DtypeWarning: Columns (2,4) have mixed types. Specify dtype option on import or set low_memory=False.\n",
      "  exec(code_obj, self.user_global_ns, self.user_ns)\n"
     ]
    },
    {
     "name": "stdout",
     "output_type": "stream",
     "text": [
      "Q1: total death of Iceland is 4038\n",
      "Q1: total population of Italy is 60483386.0\n"
     ]
    },
    {
     "name": "stderr",
     "output_type": "stream",
     "text": [
      "/anaconda3/lib/python3.6/site-packages/IPython/core/interactiveshell.py:2961: DtypeWarning: Columns (4) have mixed types. Specify dtype option on import or set low_memory=False.\n",
      "  exec(code_obj, self.user_global_ns, self.user_ns)\n",
      "/anaconda3/lib/python3.6/site-packages/IPython/core/interactiveshell.py:2961: DtypeWarning: Columns (2,4) have mixed types. Specify dtype option on import or set low_memory=False.\n",
      "  exec(code_obj, self.user_global_ns, self.user_ns)\n"
     ]
    },
    {
     "name": "stdout",
     "output_type": "stream",
     "text": [
      "Q1: total death of Italy is 1169230\n",
      "Q1: total population of New Zealand is 4367360.0\n"
     ]
    },
    {
     "name": "stderr",
     "output_type": "stream",
     "text": [
      "/anaconda3/lib/python3.6/site-packages/IPython/core/interactiveshell.py:2961: DtypeWarning: Columns (4) have mixed types. Specify dtype option on import or set low_memory=False.\n",
      "  exec(code_obj, self.user_global_ns, self.user_ns)\n",
      "/anaconda3/lib/python3.6/site-packages/IPython/core/interactiveshell.py:2961: DtypeWarning: Columns (2,4) have mixed types. Specify dtype option on import or set low_memory=False.\n",
      "  exec(code_obj, self.user_global_ns, self.user_ns)\n"
     ]
    },
    {
     "name": "stdout",
     "output_type": "stream",
     "text": [
      "Q1: total death of New Zealand is 57298\n"
     ]
    }
   ],
   "source": [
    "# Q1 \n",
    "findDetail('Iceland')\n",
    "findDetail('Italy')\n",
    "findDetail('New Zealand')"
   ]
  },
  {
   "cell_type": "markdown",
   "metadata": {},
   "source": [
    "#### Q1 Answer\n",
    "Population and the total number of death in 2010 for Countries are listed below:\n",
    "\n",
    "Q1: total population of Iceland is 318041.0\n",
    "Q1: total death of Iceland is 4038\n",
    "\n",
    "Q1: total population of Italy is 60483386.0\n",
    "Q1: total death of Italy is 1169230\n",
    "\n",
    "Q1: total population of New Zealand is 4367360.0\n",
    "Q1: total death of New Zealand is 57298\n",
    "\n",
    "Iceland has a relative small population so they have a low death number. The biggest population among three countries is of Italy. "
   ]
  },
  {
   "cell_type": "code",
   "execution_count": 32,
   "metadata": {},
   "outputs": [
    {
     "name": "stderr",
     "output_type": "stream",
     "text": [
      "/anaconda3/lib/python3.6/site-packages/IPython/core/interactiveshell.py:2961: DtypeWarning: Columns (4) have mixed types. Specify dtype option on import or set low_memory=False.\n",
      "  exec(code_obj, self.user_global_ns, self.user_ns)\n",
      "/anaconda3/lib/python3.6/site-packages/IPython/core/interactiveshell.py:2961: DtypeWarning: Columns (2,4) have mixed types. Specify dtype option on import or set low_memory=False.\n",
      "  exec(code_obj, self.user_global_ns, self.user_ns)\n"
     ]
    },
    {
     "name": "stdout",
     "output_type": "stream",
     "text": [
      "         Admin1       Year    Sex  Frmat  IM_Frmat   Deaths1  Deaths2  \\\n",
      "Country                                                                 \n",
      "4180        0.0  127279750  93166      0     63356  15280766  48752.0   \n",
      "\n",
      "         Deaths3  Deaths4  Deaths5  Deaths6  Deaths7  Deaths8  Deaths9  \\\n",
      "Country                                                                  \n",
      "4180      3262.0   2168.0   1826.0   1628.0   6230.0   7754.0  22712.0   \n",
      "\n",
      "         Deaths10  Deaths11  Deaths12  Deaths13  Deaths14  Deaths15  Deaths16  \\\n",
      "Country                                                                         \n",
      "4180      34512.0   42802.0   56866.0   85170.0  134428.0  204058.0  296844.0   \n",
      "\n",
      "         Deaths17  Deaths18  Deaths19   Deaths20   Deaths21   Deaths22  \\\n",
      "Country                                                                  \n",
      "4180     440700.0  653350.0  964376.0  1429568.0  2119884.0  2882460.0   \n",
      "\n",
      "          Deaths23   Deaths24  Deaths25  Deaths26  IM_Deaths1  IM_Deaths2  \\\n",
      "Country                                                                     \n",
      "4180     2869502.0  2036988.0  934246.0     680.0     12482.0     11990.0   \n",
      "\n",
      "         IM_Deaths3  IM_Deaths4  \n",
      "Country                          \n",
      "4180        10156.0     14124.0  \n"
     ]
    },
    {
     "data": {
      "image/png": "[encoded data removed]",
      "text/plain": [
       "<Figure size 432x288 with 1 Axes>"
      ]
     },
     "metadata": {
      "needs_background": "light"
     },
     "output_type": "display_data"
    }
   ],
   "source": [
    "# Q2 \n",
    "histForItaly('Italy')"
   ]
  },
  {
   "cell_type": "markdown",
   "metadata": {},
   "source": [
    "#### Q2 Answer\n",
    "\n",
    "The distribution of deaths by age group in Italy is very close to a normal distribution slightly deviated towards the right. \n",
    "\n",
    "The age group with the highest death number in Italy is 80-85. They have almost 3,000,000 deaths for all years for all causes. And the age group with the least death number is 5-10 and 10-15. Less than 1% of the deaths are from those two groups.\n",
    "\n",
    "Generally, the deaths number increases as the age increases. This may not completely due to the body condition of aged population, but might also because of the population distribution of Italy. If they have an aged population, there will also be more deaths when the age increases.\n",
    "\n",
    "Most of the deaths are among 60-90, and after 90, death number decreases again."
   ]
  },
  {
   "cell_type": "code",
   "execution_count": 33,
   "metadata": {},
   "outputs": [
    {
     "name": "stderr",
     "output_type": "stream",
     "text": [
      "/anaconda3/lib/python3.6/site-packages/IPython/core/interactiveshell.py:2961: DtypeWarning: Columns (4) have mixed types. Specify dtype option on import or set low_memory=False.\n",
      "  exec(code_obj, self.user_global_ns, self.user_ns)\n",
      "/anaconda3/lib/python3.6/site-packages/IPython/core/interactiveshell.py:2961: DtypeWarning: Columns (2,4) have mixed types. Specify dtype option on import or set low_memory=False.\n",
      "  exec(code_obj, self.user_global_ns, self.user_ns)\n"
     ]
    },
    {
     "name": "stdout",
     "output_type": "stream",
     "text": [
      "     Cause   deathNum  Percentage\n",
      "143   C349   426451.0    0.190419\n",
      "227   C509   155895.0    0.069610\n",
      "92    C189   143188.0    0.063936\n",
      "76    C169   125679.0    0.056118\n",
      "118   C259   120070.0    0.053614\n",
      "0    Other  1268258.0    0.566303\n"
     ]
    },
    {
     "data": {
      "image/png": "[encoded data removed]",
      "text/plain": [
       "<Figure size 720x720 with 1 Axes>"
      ]
     },
     "metadata": {},
     "output_type": "display_data"
    }
   ],
   "source": [
    "# Q3.\n",
    "NeoDeath('Italy')"
   ]
  },
  {
   "cell_type": "markdown",
   "metadata": {},
   "source": [
    "#### Q3 Answer\n",
    "\n",
    "For the pie chart, small sections of the pie chart with label made it unclear to read. Therefore, only the top 5 causes are shown in the chart. The rest of the causes will be classified as 'other'. \n",
    "\n",
    "The top 5 most common causes of death for neoplasm across Italy are:\n",
    "\n",
    "Cause |  Death Num   |  Percentage\n",
    "\n",
    "C349  |  426451      |  19%\n",
    "\n",
    "C509  |  155895      |  6%\n",
    "\n",
    "C189  |  143188      |  6%\n",
    "\n",
    "C169  |  125679      |  5%\n",
    "\n",
    "C259  |  120070      |  5%\n",
    "\n",
    "ICD-10 code ended with 9 indicates information not specified. For example, C349 indicates Malignant neoplasm of unspecified part of unspecified bronchus or lung. \n",
    "\n",
    "Through this pie chart, we can conclude that almost 20% of the death among neoplasm is due to cause C349. "
   ]
  },
  {
   "cell_type": "code",
   "execution_count": 34,
   "metadata": {},
   "outputs": [
    {
     "name": "stderr",
     "output_type": "stream",
     "text": [
      "/anaconda3/lib/python3.6/site-packages/IPython/core/interactiveshell.py:2961: DtypeWarning: Columns (4) have mixed types. Specify dtype option on import or set low_memory=False.\n",
      "  exec(code_obj, self.user_global_ns, self.user_ns)\n",
      "/anaconda3/lib/python3.6/site-packages/IPython/core/interactiveshell.py:2961: DtypeWarning: Columns (2,4) have mixed types. Specify dtype option on import or set low_memory=False.\n",
      "  exec(code_obj, self.user_global_ns, self.user_ns)\n"
     ]
    },
    {
     "name": "stdout",
     "output_type": "stream",
     "text": [
      "Country     5020\n",
      "Deaths22  7165.0\n",
      "Deaths21  6281.0\n",
      "Deaths20  5709.0\n",
      "Deaths23  5512.0\n",
      "Deaths19  4765.0\n"
     ]
    }
   ],
   "source": [
    "# Q4\n",
    "rankNeoDeath('Australia')"
   ]
  },
  {
   "attachments": {},
   "cell_type": "markdown",
   "metadata": {},
   "source": [
    "#### Q4 Answer\n",
    "\n",
    "Top five age groups in Australia dying with a Neoplasms cause of death:\n",
    "\n",
    "Deaths22  Deaths at age 80-84 years\n",
    "\n",
    "Deaths21  Deaths at age 75-79 years\n",
    "\n",
    "Deaths20  Deaths at age 70-74 years\n",
    "\n",
    "Deaths23  Deaths at age 85-89 years\n",
    "\n",
    "Deaths19  Deaths at age 65-69 years\n"
   ]
  },
  {
   "cell_type": "code",
   "execution_count": 35,
   "metadata": {},
   "outputs": [
    {
     "name": "stderr",
     "output_type": "stream",
     "text": [
      "/anaconda3/lib/python3.6/site-packages/IPython/core/interactiveshell.py:2961: DtypeWarning: Columns (4) have mixed types. Specify dtype option on import or set low_memory=False.\n",
      "  exec(code_obj, self.user_global_ns, self.user_ns)\n",
      "/anaconda3/lib/python3.6/site-packages/IPython/core/interactiveshell.py:2961: DtypeWarning: Columns (2,4) have mixed types. Specify dtype option on import or set low_memory=False.\n",
      "  exec(code_obj, self.user_global_ns, self.user_ns)\n"
     ]
    },
    {
     "name": "stdout",
     "output_type": "stream",
     "text": [
      "     country1  country2\n",
      "age                    \n",
      "0    0.001941  0.002884\n",
      "1    0.000038  0.000032\n",
      "2    0.000024  0.000037\n",
      "3    0.000037  0.000028\n",
      "4    0.000024  0.000045\n",
      "5    0.000028  0.000035\n",
      "10   0.000034  0.000032\n",
      "15   0.000022  0.000034\n",
      "20   0.000033  0.000045\n",
      "25   0.000032  0.000052\n",
      "30   0.000058  0.000067\n",
      "35   0.000090  0.000107\n",
      "40   0.000200  0.000194\n",
      "45   0.000354  0.000388\n",
      "50   0.000675  0.000725\n",
      "55   0.001196  0.001386\n",
      "60   0.002031  0.002298\n",
      "65   0.003251  0.003731\n",
      "70   0.005247  0.005746\n",
      "75   0.008040  0.008209\n",
      "80   0.011357  0.011765\n",
      "85   0.016287  0.016420\n",
      "90   0.020774  0.020414\n",
      "95   0.023344  0.022993\n"
     ]
    },
    {
     "data": {
      "image/png": "[encoded data removed]",
      "text/plain": [
       "<Figure size 432x288 with 1 Axes>"
      ]
     },
     "metadata": {
      "needs_background": "light"
     },
     "output_type": "display_data"
    }
   ],
   "source": [
    "# Q5\n",
    "compareCountries('Australia', 'Italy')"
   ]
  },
  {
   "cell_type": "markdown",
   "metadata": {},
   "source": [
    "#### Q5 Answer\n",
    "\n",
    "In this case, as parameters passed in are Australia and Italy, country 1 will be Australia and country 2 will be Italy.\n",
    "\n",
    "Combine the information on population and deaths, the percentage of death due to neoplasm out of the population for each age groups for two different countries are shown in the graph below. There is a very slight difference between younger people apart from 0-year-old infants. Both of the country have almost 0% of young people dying because of neoplasm, between age group 1 to 30. However, both of the countries has a rapid increase in the percentage of death of neoplasm after the population reach the age 35. After age 75, more than 1% of the population died because neoplasm.\n",
    "\n",
    "Comparing with Italy, Australia population has a lower percentage in death because of neoplasm for infants. For people above 90 however, australia population has a higher death rate because of neoplasm comparing to Italy population. \n",
    "\n",
    "In general, both countries does not have a significant difference in the frequency of death by neoplasm. "
   ]
  }
 ],
 "metadata": {
  "kernelspec": {
   "display_name": "Python 3",
   "language": "python",
   "name": "python3"
  },
  "language_info": {
   "codemirror_mode": {
    "name": "ipython",
    "version": 3
   },
   "file_extension": ".py",
   "mimetype": "text/x-python",
   "name": "python",
   "nbconvert_exporter": "python",
   "pygments_lexer": "ipython3",
   "version": "3.6.6"
  }
 },
 "nbformat": 4,
 "nbformat_minor": 2
}
